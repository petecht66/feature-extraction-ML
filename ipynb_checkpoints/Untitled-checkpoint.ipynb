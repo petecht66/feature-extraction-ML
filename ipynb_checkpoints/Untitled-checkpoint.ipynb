{
 "cells": [
  {
   "cell_type": "code",
   "execution_count": 1,
   "id": "6c4d3398",
   "metadata": {},
   "outputs": [
    {
     "name": "stdout",
     "output_type": "stream",
     "text": [
      "2022-12-25 00:00:00\n",
      "<class 'datetime.datetime'>\n"
     ]
    }
   ],
   "source": [
    "from datetime import datetime\n",
    "from datetime import timedelta\n",
    "\n",
    "date_string = '25 December, 2022'\n",
    "datetime_object = datetime.strptime(date_string, '%d %B, %Y')\n",
    "\n",
    "print(datetime_object)\n",
    "print(type(datetime_object))\n",
    "\n",
    "\n",
    "\n",
    "d = timedelta(days = 2)"
   ]
  },
  {
   "cell_type": "code",
   "execution_count": 2,
   "id": "969228dd",
   "metadata": {},
   "outputs": [
    {
     "ename": "TypeError",
     "evalue": "'Tweet' object is not subscriptable",
     "output_type": "error",
     "traceback": [
      "\u001b[1;31m---------------------------------------------------------------------------\u001b[0m",
      "\u001b[1;31mTypeError\u001b[0m                                 Traceback (most recent call last)",
      "Input \u001b[1;32mIn [2]\u001b[0m, in \u001b[0;36m<cell line: 18>\u001b[1;34m()\u001b[0m\n\u001b[0;32m     55\u001b[0m tweet_id \u001b[38;5;241m=\u001b[39m tweet_obj\u001b[38;5;241m.\u001b[39mget_id()\n\u001b[0;32m     56\u001b[0m user_id \u001b[38;5;241m=\u001b[39m tweet_obj\u001b[38;5;241m.\u001b[39muser\u001b[38;5;241m.\u001b[39mid_str\n\u001b[1;32m---> 57\u001b[0m feature_list \u001b[38;5;241m=\u001b[39m \u001b[43mtweet_obj\u001b[49m\u001b[38;5;241;43m.\u001b[39;49m\u001b[43mget_tweet_features\u001b[49m\u001b[43m(\u001b[49m\u001b[43m)\u001b[49m\n\u001b[0;32m     58\u001b[0m file_out\u001b[38;5;241m.\u001b[39mwrite(tweet_id\u001b[38;5;241m+\u001b[39m\u001b[38;5;124m'\u001b[39m\u001b[38;5;130;01m\\t\u001b[39;00m\u001b[38;5;124m'\u001b[39m\u001b[38;5;241m+\u001b[39muser_id\u001b[38;5;241m+\u001b[39m\u001b[38;5;124m'\u001b[39m\u001b[38;5;130;01m\\t\u001b[39;00m\u001b[38;5;124m'\u001b[39m)\n\u001b[0;32m     60\u001b[0m \u001b[38;5;28mprint\u001b[39m(feature_list)\n",
      "File \u001b[1;32m~\\Downloads\\ML Codes\\ML Codes\\Feature_Extraction_code\\June_18_Feature\\tool\\Twitter.py:268\u001b[0m, in \u001b[0;36mTweet.get_tweet_features\u001b[1;34m(self)\u001b[0m\n\u001b[0;32m    266\u001b[0m feature_list\u001b[38;5;241m.\u001b[39mappend(\u001b[38;5;28mself\u001b[39m\u001b[38;5;241m.\u001b[39mget_text_digits())             \u001b[38;5;66;03m# 12\u001b[39;00m\n\u001b[0;32m    267\u001b[0m feature_list\u001b[38;5;241m.\u001b[39mappend(\u001b[38;5;28mself\u001b[39m\u001b[38;5;241m.\u001b[39mget_retweet_count())             \u001b[38;5;66;03m# 13        \u001b[39;00m\n\u001b[1;32m--> 268\u001b[0m feature_list\u001b[38;5;241m.\u001b[39mappend(\u001b[38;5;28;43mself\u001b[39;49m\u001b[38;5;241;43m.\u001b[39;49m\u001b[43mget_user_favourites_count\u001b[49m\u001b[43m(\u001b[49m\u001b[43m)\u001b[49m)\n\u001b[0;32m    269\u001b[0m \u001b[38;5;28;01mreturn\u001b[39;00m feature_list\n",
      "File \u001b[1;32m~\\Downloads\\ML Codes\\ML Codes\\Feature_Extraction_code\\June_18_Feature\\tool\\Twitter.py:250\u001b[0m, in \u001b[0;36mTweet.get_user_favourites_count\u001b[1;34m(tweet_json)\u001b[0m\n\u001b[0;32m    249\u001b[0m \u001b[38;5;28;01mdef\u001b[39;00m \u001b[38;5;21mget_user_favourites_count\u001b[39m(tweet_json):\n\u001b[1;32m--> 250\u001b[0m     \u001b[38;5;28;01mreturn\u001b[39;00m \u001b[43mtweet_json\u001b[49m\u001b[43m[\u001b[49m\u001b[38;5;124;43m'\u001b[39;49m\u001b[38;5;124;43muser\u001b[39;49m\u001b[38;5;124;43m'\u001b[39;49m\u001b[43m]\u001b[49m\u001b[38;5;241m.\u001b[39mget(\u001b[38;5;124m'\u001b[39m\u001b[38;5;124mfavourites_count\u001b[39m\u001b[38;5;124m'\u001b[39m, \u001b[38;5;241m0\u001b[39m)\n",
      "\u001b[1;31mTypeError\u001b[0m: 'Tweet' object is not subscriptable"
     ]
    }
   ],
   "source": [
    "import os\n",
    "import json\n",
    "import datetime\n",
    "from tool.Twitter import Tweet\n",
    "\n",
    "from datetime import datetime\n",
    "\n",
    "start_date = \"20201117\"\n",
    "end_date = \"20210521\"\n",
    "start_date_datetime = datetime.strptime(start_date, \"%Y%m%d\")\n",
    "end_date_datetime = datetime.strptime(end_date, \"%Y%m%d\")\n",
    "proc_date = start_date_datetime\n",
    "duration = 300   # t\n",
    "\n",
    "data_check_list = os.listdir(\"Data\")\n",
    "data_check_dic = {i:1 for i in data_check_list}\n",
    "\n",
    "for _ in range(duration):\n",
    "    # process the data in this date\n",
    "    proc_date_str = proc_date.strftime(\"%Y-%m-%d\")\n",
    "\n",
    "    input_data_folder_path = \"Data/\"+proc_date_str+\"/\"\n",
    "    output_data_folder_path =   \"Tmp/\"+proc_date_str+\"/\"\n",
    "\n",
    "\n",
    "    if not proc_date_str in data_check_dic.keys():\n",
    "        proc_date = proc_date+timedelta(days=1)\n",
    "        if proc_date == end_date_datetime:\n",
    "            break\n",
    "        continue\n",
    "\n",
    "    if not os.path.exists(output_data_folder_path):\n",
    "        os.makedirs(output_data_folder_path)\n",
    "\n",
    "    output_data_file = output_data_folder_path+\"tweet_feature\"\n",
    "    with open(output_data_file, 'w', encoding='utf-8') as file_out:\n",
    "\n",
    "\n",
    "        for filename in os.listdir(input_data_folder_path):\n",
    "            input_data_path = input_data_folder_path+filename\n",
    "\n",
    "            with open(input_data_path, 'r', encoding='utf-8', errors='ignore') as file_in:\n",
    "\n",
    "                for line in file_in:\n",
    "                    try:\n",
    "                        tweet = json.loads(line)\n",
    "                        tweet_obj = Tweet(tweet)\n",
    "                    except:\n",
    "                        print(tweet)\n",
    "                        continue\n",
    "\n",
    "                    if not tweet_obj.is_en():\n",
    "                        continue\n",
    "\n",
    "                    tweet_id = tweet_obj.get_id()\n",
    "                    user_id = tweet_obj.user.id_str\n",
    "                    feature_list = tweet_obj.get_tweet_features()\n",
    "                    file_out.write(tweet_id+'\\t'+user_id+'\\t')\n",
    "                    \n",
    "                    print(feature_list)\n",
    "\n",
    "                    for f in feature_list:\n",
    "                        file_out.write(str(f))\n",
    "                        file_out.write('\\t')\n",
    "                    file_out.write('\\n')\n",
    "                    file_out.flush()\n",
    "#                                 # Change starts here\n",
    "#                     if len(feature_list) >= 2:  # Ensure there are at least 2 features\n",
    "#                         first_two_features = feature_list[:2]  # Slice to get first two features\n",
    "#                         file_out.write(tweet_id + '\\t' + user_id + '\\t')\n",
    "#                         for f in first_two_features:\n",
    "#                             file_out.write(str(f) + '\\t')\n",
    "#                         file_out.write('\\n')\n",
    "#                     # Change ends here\n",
    "\n",
    "    proc_date = proc_date+timedelta(days=1)\n",
    "    if proc_date == end_date_datetime:\n",
    "        break"
   ]
  },
  {
   "cell_type": "code",
   "execution_count": null,
   "id": "767d6d4c",
   "metadata": {},
   "outputs": [],
   "source": []
  }
 ],
 "metadata": {
  "kernelspec": {
   "display_name": "Python 3 (ipykernel)",
   "language": "python",
   "name": "python3"
  },
  "language_info": {
   "codemirror_mode": {
    "name": "ipython",
    "version": 3
   },
   "file_extension": ".py",
   "mimetype": "text/x-python",
   "name": "python",
   "nbconvert_exporter": "python",
   "pygments_lexer": "ipython3",
   "version": "3.9.12"
  }
 },
 "nbformat": 4,
 "nbformat_minor": 5
}
